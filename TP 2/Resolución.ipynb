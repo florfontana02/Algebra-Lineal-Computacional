{
  "nbformat": 4,
  "nbformat_minor": 0,
  "metadata": {
    "colab": {
      "provenance": []
    },
    "kernelspec": {
      "name": "python3",
      "display_name": "Python 3"
    },
    "language_info": {
      "name": "python"
    }
  },
  "cells": [
    {
      "cell_type": "markdown",
      "source": [
        "\n",
        "#Álgebra Lineal Computacional\n",
        "##Trabajo Práctico Nº2\n",
        "\n",
        "Hecho por: Flor Fontana y Valentina Durán"
      ],
      "metadata": {
        "id": "nv-RI-ojm8ci"
      }
    },
    {
      "cell_type": "code",
      "execution_count": null,
      "metadata": {
        "id": "2O6qI_Vym2p0"
      },
      "outputs": [],
      "source": [
        "import numpy as np\n",
        "import scipy as sc\n",
        "import matplotlib.pyplot as plt"
      ]
    },
    {
      "cell_type": "markdown",
      "source": [
        "###Ejercicio 1\n",
        "Implementamos la función que aplique N pasos del método del descenso.\n",
        "\n",
        "\n",
        "El método del descenso lo utilizamos para resolver un sistema lineal Ax = b, con A definida positiva."
      ],
      "metadata": {
        "id": "N_-5lh8wnI1j"
      }
    },
    {
      "cell_type": "code",
      "source": [
        "def metodo_descenso(A,b,x0,N):\n",
        "  x = x0\n",
        "  e = np.array([])\n",
        "\n",
        "  for i in range(1, N):\n",
        "    r = b - A@x\n",
        "    lmbd = (np.transpose(r)@r)/(np.transpose(r)@A@r)\n",
        "    x = x + lmbd*r\n",
        "    e = np.append(e,np.linalg.norm(b - A@x, 2))\n",
        "\n",
        "  return(x,e) #Devolvemos la x que en cada iteración converge a la x sistema lineal y la lista de errores de cada iteración\n",
        "\n"
      ],
      "metadata": {
        "id": "4_2Tjv5in22Z"
      },
      "execution_count": null,
      "outputs": []
    },
    {
      "cell_type": "markdown",
      "source": [
        "### Ejercicio 2\n",
        "Aplicamos el método al ejemplo.\n"
      ],
      "metadata": {
        "id": "7uVncZG-rUqx"
      }
    },
    {
      "cell_type": "code",
      "source": [
        "M = np.random.rand(10,10)\n",
        "A = np.transpose(M)@M + np.identity(10)\n",
        "b = np.random.rand(10)\n",
        "x0 = np.random.rand(10)\n",
        "N = 20\n",
        "\n",
        "res = metodo_descenso(A,b,x0,N)\n",
        "print(res)\n",
        "\n"
      ],
      "metadata": {
        "colab": {
          "base_uri": "https://localhost:8080/"
        },
        "id": "vUBTAqhnranh",
        "outputId": "9ba79a3a-29c2-457e-e90b-85a758165699"
      },
      "execution_count": null,
      "outputs": [
        {
          "output_type": "stream",
          "name": "stdout",
          "text": [
            "(array([ 0.06199297,  0.4724198 ,  0.15389572,  0.35447399, -0.07043224,\n",
            "       -0.1317052 , -0.18771418, -0.12365658, -0.01247882, -0.23042978]), array([1.74976579, 0.71123563, 0.45850309, 0.48169503, 0.32356164,\n",
            "       0.35504763, 0.24484878, 0.27551507, 0.19258327, 0.21940281,\n",
            "       0.15434955, 0.17688609, 0.12482751, 0.14347383, 0.10141179,\n",
            "       0.11674281, 0.08259169, 0.09516357, 0.06736181]))\n"
          ]
        }
      ]
    },
    {
      "cell_type": "markdown",
      "source": [
        "Graficamos los errores en función de la iteración:"
      ],
      "metadata": {
        "id": "Mi4ckgQxtdcw"
      }
    },
    {
      "cell_type": "code",
      "source": [
        "plt.plot(res[1],\"o\", color = 'plum')"
      ],
      "metadata": {
        "colab": {
          "base_uri": "https://localhost:8080/",
          "height": 282
        },
        "id": "UvDCYVOetdQQ",
        "outputId": "383bbe24-8b4f-41c6-d351-0ea5e077202d"
      },
      "execution_count": null,
      "outputs": [
        {
          "output_type": "execute_result",
          "data": {
            "text/plain": [
              "[<matplotlib.lines.Line2D at 0x7f3218f5ce90>]"
            ]
          },
          "metadata": {},
          "execution_count": 13
        },
        {
          "output_type": "display_data",
          "data": {
            "text/plain": [
              "<Figure size 432x288 with 1 Axes>"
            ],
            "image/png": "[encoded data removed]"
          },
          "metadata": {
            "needs_background": "light"
          }
        }
      ]
    },
    {
      "cell_type": "markdown",
      "source": [
        "Notamos cómo rápidamente los errores convergen a 0."
      ],
      "metadata": {
        "id": "Q0vjjP0QqHFI"
      }
    },
    {
      "cell_type": "markdown",
      "source": [
        "###Ejercicio 3\n",
        "Implementamos la función que da como resultado aplicar un paso de la modificación del método Gram-Schmidt."
      ],
      "metadata": {
        "id": "byQvMy67t_ji"
      }
    },
    {
      "cell_type": "code",
      "source": [
        "def Gram_Schmidt(d,v,A):\n",
        "  u = v\n",
        "  for i in range(1, len(d)):\n",
        "    u = u - ((np.transpose(v)@A@d[i])/(np.transpose(d[i])@A@d[i]))*d[i]\n",
        "  return(u)"
      ],
      "metadata": {
        "id": "z7Y9OmAOszmO"
      },
      "execution_count": null,
      "outputs": []
    },
    {
      "cell_type": "markdown",
      "source": [
        "###Ejercicio 4\n",
        "\n",
        "Implementamos la función del método del gradiente conjugado"
      ],
      "metadata": {
        "id": "rIf6DDtryiAN"
      }
    },
    {
      "cell_type": "code",
      "source": [
        "def grad_conjugado(A,b,x0,n):\n",
        "  x = x0\n",
        "  r = b - A@x\n",
        "  lmbd = (np.transpose(r)@r)/(np.transpose(r)@A@r)\n",
        "  x = x + lmbd*r\n",
        "  d = np.array([r]) #Gram Schmidt para el primer vector queda igual\n",
        "  e = np.array([np.linalg.norm(b - A@x, 2)]) #agregamos el primer error manualmente\n",
        "\n",
        "  for i in range(1, n):\n",
        "    r = b - A@x\n",
        "    r_onda = Gram_Schmidt(d,r,A)\n",
        "    lmbd = (np.transpose(r_onda)@r)/(np.transpose(r_onda)@A@r_onda)\n",
        "    x = x + lmbd*r_onda\n",
        "    d = np.concatenate((d, [r]), axis = 0)\n",
        "    e = np.append(e,np.linalg.norm(b - A@x, 2))\n",
        "\n",
        "  return(x, e) #Devolvemos la x que en cada iteración converge a la x sistema lineal y la lista de errores de cada iteración\n",
        "\n"
      ],
      "metadata": {
        "id": "aSe_ur4dw-CY"
      },
      "execution_count": null,
      "outputs": []
    },
    {
      "cell_type": "markdown",
      "source": [
        "###Ejercicio 5\n"
      ],
      "metadata": {
        "id": "5QAGy8z-yt6u"
      }
    },
    {
      "cell_type": "code",
      "source": [
        "res2 = grad_conjugado(A,b,x0,N)\n",
        "print(res2)\n",
        "plt.plot(res2[1],\"o\", color = 'plum')"
      ],
      "metadata": {
        "colab": {
          "base_uri": "https://localhost:8080/",
          "height": 369
        },
        "id": "4lagl93Mzigh",
        "outputId": "35687178-bb24-443f-828d-44f8b3d9e229"
      },
      "execution_count": null,
      "outputs": [
        {
          "output_type": "stream",
          "name": "stdout",
          "text": [
            "(array([ 0.07124501,  0.48027555,  0.15612843,  0.35974819, -0.071804  ,\n",
            "       -0.12459734, -0.1920506 , -0.13012651, -0.01851521, -0.23637057]), array([1.74976579, 0.71123563, 0.47017286, 0.1941365 , 0.12901899,\n",
            "       0.13135391, 0.16745648, 0.16818493, 0.10573903, 0.08759237,\n",
            "       0.08191987, 0.09369556, 0.08029447, 0.0739291 , 0.10898096,\n",
            "       0.05638733, 0.07558008, 0.03800098, 0.03794807, 0.0440066 ]))\n"
          ]
        },
        {
          "output_type": "execute_result",
          "data": {
            "text/plain": [
              "[<matplotlib.lines.Line2D at 0x7f3218eda6d0>]"
            ]
          },
          "metadata": {},
          "execution_count": 14
        },
        {
          "output_type": "display_data",
          "data": {
            "text/plain": [
              "<Figure size 432x288 with 1 Axes>"
            ],
            "image/png": "[encoded data removed]"
          },
          "metadata": {
            "needs_background": "light"
          }
        }
      ]
    },
    {
      "cell_type": "markdown",
      "source": [
        "Luego de hacer varias pruebas consideramos que el método más apropiado para resolver un sistema de ecuaciones lineales es el de gradiente conjugado. Esto se debe a que luego de probar con varias matrices A, notamos tanto en los gráficos como en el vector, que los errores en cada iteración convergen más rápido a 0.\n",
        "\n",
        "Claramente esto depende de con qué A trabajemos, ya que al tener elementos aleatorios, cada vez que trabajamos con una A nueva irán cambiando los errores. A veces converge más rápido a 0 y a veces más lento. Sin embargo, siempre notamos que el método del gradiente conjugado es más adecuado."
      ],
      "metadata": {
        "id": "T0Sf1SDnqQ9k"
      }
    }
  ]
}